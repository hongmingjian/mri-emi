{
 "cells": [
  {
   "cell_type": "code",
   "execution_count": null,
   "outputs": [],
   "source": [
    "import numpy as np"
   ],
   "metadata": {
    "collapsed": false,
    "pycharm": {
     "name": "#%%\n"
    }
   }
  },
  {
   "cell_type": "markdown",
   "source": [
    "generate EMI convolution matrix E\n",
    "\n",
    "valid padding\n",
    "the height of E is (kx-a) * (ky-b), a = (delta_kx - 1)/2, b = (delta_ky - 1)/2\n",
    "the width is similar\n"
   ],
   "metadata": {
    "collapsed": false
   }
  },
  {
   "cell_type": "code",
   "execution_count": 17,
   "outputs": [
    {
     "name": "stdout",
     "output_type": "stream",
     "text": [
      "(6, 6)\n",
      "[[111 121 131 211 221 231]\n",
      " [112 122 132 212 222 232]\n",
      " [113 123 133 213 223 233]\n",
      " [121 131 141 221 231 241]\n",
      " [122 132 142 222 232 242]\n",
      " [123 133 143 223 233 243]]\n"
     ]
    }
   ],
   "source": [
    "def EMI_conv_matrix(detectors, window_size):\n",
    "    delta_kx, delta_ky = window_size\n",
    "    lines = []\n",
    "    kx, ky = detectors[0].shape\n",
    "    for i_x in range(kx - delta_kx + 1):\n",
    "        for i_y in range(ky - delta_ky + 1):\n",
    "            line = np.concatenate(tuple(\n",
    "                d[i_x:i_x+delta_kx, i_y:i_y+delta_ky].flatten() for d in detectors\n",
    "            ))\n",
    "            lines.append(line)\n",
    "    return np.vstack(tuple(lines))\n",
    "\n",
    "detectors = np.array([\n",
    "    [[111, 112, 113],\n",
    "     [121, 122, 123],\n",
    "     [131, 132, 133],\n",
    "     [141, 142, 143]],\n",
    "    [[211, 212, 213],\n",
    "     [221, 222, 223],\n",
    "     [231, 232, 233],\n",
    "     [241, 242, 243]]\n",
    "])\n",
    "\n",
    "window_size = 3, 1\n",
    "ecm = EMI_conv_matrix(detectors, window_size)\n",
    "print(ecm.shape)\n",
    "print(ecm)"
   ],
   "metadata": {
    "collapsed": false,
    "pycharm": {
     "name": "#%%\n"
    }
   }
  },
  {
   "cell_type": "markdown",
   "source": [
    "calculate h_k"
   ],
   "metadata": {
    "collapsed": false
   }
  },
  {
   "cell_type": "code",
   "execution_count": 9,
   "outputs": [
    {
     "ename": "ValueError",
     "evalue": "need at least one array to concatenate",
     "output_type": "error",
     "traceback": [
      "\u001B[1;31m---------------------------------------------------------------------------\u001B[0m",
      "\u001B[1;31mValueError\u001B[0m                                Traceback (most recent call last)",
      "Cell \u001B[1;32mIn[9], line 13\u001B[0m\n\u001B[0;32m      1\u001B[0m detectors \u001B[38;5;241m=\u001B[39m np\u001B[38;5;241m.\u001B[39marray([\n\u001B[0;32m      2\u001B[0m     [[\u001B[38;5;241m111\u001B[39m, \u001B[38;5;241m112\u001B[39m, \u001B[38;5;241m113\u001B[39m],\n\u001B[0;32m      3\u001B[0m      [\u001B[38;5;241m121\u001B[39m, \u001B[38;5;241m122\u001B[39m, \u001B[38;5;241m123\u001B[39m],\n\u001B[1;32m   (...)\u001B[0m\n\u001B[0;32m      9\u001B[0m      [\u001B[38;5;241m241\u001B[39m, \u001B[38;5;241m242\u001B[39m, \u001B[38;5;241m243\u001B[39m]]\n\u001B[0;32m     10\u001B[0m ])\n\u001B[0;32m     12\u001B[0m window_size \u001B[38;5;241m=\u001B[39m \u001B[38;5;241m3\u001B[39m, \u001B[38;5;241m1\u001B[39m\n\u001B[1;32m---> 13\u001B[0m \u001B[38;5;28mprint\u001B[39m(\u001B[43mEMI_conv_matrix\u001B[49m\u001B[43m(\u001B[49m\u001B[43mdetectors\u001B[49m\u001B[43m,\u001B[49m\u001B[43m \u001B[49m\u001B[43mwindow_size\u001B[49m\u001B[43m)\u001B[49m)\n",
      "Cell \u001B[1;32mIn[3], line 11\u001B[0m, in \u001B[0;36mEMI_conv_matrix\u001B[1;34m(detectors, window_size)\u001B[0m\n\u001B[0;32m      7\u001B[0m         line \u001B[38;5;241m=\u001B[39m np\u001B[38;5;241m.\u001B[39mconcatenate(\u001B[38;5;28mtuple\u001B[39m(\n\u001B[0;32m      8\u001B[0m             d[i_y:i_y\u001B[38;5;241m+\u001B[39mdelta_ky, i_x:i_x\u001B[38;5;241m+\u001B[39mdelta_kx]\u001B[38;5;241m.\u001B[39mflatten() \u001B[38;5;28;01mfor\u001B[39;00m d \u001B[38;5;129;01min\u001B[39;00m detectors\n\u001B[0;32m      9\u001B[0m         ))\n\u001B[0;32m     10\u001B[0m         lines\u001B[38;5;241m.\u001B[39mappend(line)\n\u001B[1;32m---> 11\u001B[0m \u001B[38;5;28;01mreturn\u001B[39;00m \u001B[43mnp\u001B[49m\u001B[38;5;241;43m.\u001B[39;49m\u001B[43mvstack\u001B[49m\u001B[43m(\u001B[49m\u001B[38;5;28;43mtuple\u001B[39;49m\u001B[43m(\u001B[49m\u001B[43mlines\u001B[49m\u001B[43m)\u001B[49m\u001B[43m)\u001B[49m\n",
      "File \u001B[1;32m<__array_function__ internals>:180\u001B[0m, in \u001B[0;36mvstack\u001B[1;34m(*args, **kwargs)\u001B[0m\n",
      "File \u001B[1;32mH:\\Program Files\\python39\\lib\\site-packages\\numpy\\core\\shape_base.py:282\u001B[0m, in \u001B[0;36mvstack\u001B[1;34m(tup)\u001B[0m\n\u001B[0;32m    280\u001B[0m \u001B[38;5;28;01mif\u001B[39;00m \u001B[38;5;129;01mnot\u001B[39;00m \u001B[38;5;28misinstance\u001B[39m(arrs, \u001B[38;5;28mlist\u001B[39m):\n\u001B[0;32m    281\u001B[0m     arrs \u001B[38;5;241m=\u001B[39m [arrs]\n\u001B[1;32m--> 282\u001B[0m \u001B[38;5;28;01mreturn\u001B[39;00m \u001B[43m_nx\u001B[49m\u001B[38;5;241;43m.\u001B[39;49m\u001B[43mconcatenate\u001B[49m\u001B[43m(\u001B[49m\u001B[43marrs\u001B[49m\u001B[43m,\u001B[49m\u001B[43m \u001B[49m\u001B[38;5;241;43m0\u001B[39;49m\u001B[43m)\u001B[49m\n",
      "File \u001B[1;32m<__array_function__ internals>:180\u001B[0m, in \u001B[0;36mconcatenate\u001B[1;34m(*args, **kwargs)\u001B[0m\n",
      "\u001B[1;31mValueError\u001B[0m: need at least one array to concatenate"
     ]
    }
   ],
   "source": [
    "def calculate_h(E, e):\n",
    "    h = np.linalg.pinv(E) @ e\n",
    "    assert h.shape[0] == 1\n",
    "    return h\n"
   ],
   "metadata": {
    "collapsed": false,
    "pycharm": {
     "name": "#%%\n"
    }
   }
  },
  {
   "cell_type": "code",
   "execution_count": null,
   "outputs": [],
   "source": [
    "def divide_groups(E, e, W):\n",
    "    width = E.shape[1]\n",
    "    if width % W != 0:\n",
    "        print(\"kx 必须是 W 的整数倍！\")\n",
    "        return\n",
    "\n",
    "    sub_width = width / W\n",
    "    return [[E[:, k*sub_width:(k+1)*sub_width], e[:, k*sub_width:(k+1)*sub_width]] for k in range(W)]\n"
   ],
   "metadata": {
    "collapsed": false,
    "pycharm": {
     "name": "#%%\n"
    }
   }
  },
  {
   "cell_type": "code",
   "execution_count": null,
   "outputs": [],
   "source": [
    "def cluster(H, threshold=0.5):\n",
    "\n",
    "    # normalize\n",
    "    H = H / np.linalg.norm(H, axis=0)\n",
    "\n",
    "    H_conj_T = H.conj().T\n",
    "    C = np.dot(H, H_conj_T)\n",
    "    C_threshold = (C >= threshold).astype(int)\n",
    "\n",
    "    group_bound = [0]\n",
    "    W = H.shape[0]\n",
    "    y = 0\n",
    "    while y < W:\n",
    "        x = y\n",
    "        while C_threshold[x, y] == 1:\n",
    "            y += 1\n",
    "        group_bound.append(y)\n",
    "    return group_bound\n"
   ],
   "metadata": {
    "collapsed": false,
    "pycharm": {
     "name": "#%%\n"
    }
   }
  },
  {
   "cell_type": "code",
   "execution_count": null,
   "outputs": [],
   "source": [
    "def EDITER(E, e, W, ):\n",
    "    groups = divide_groups(E, e, W)\n",
    "\n",
    "    H = [calculate_h(E, e)\n",
    "        for E, e in groups]\n",
    "\n",
    "    clustered_bounds = cluster(H)\n",
    "    assert clustered_bounds[-1] == W\n",
    "    bounds_pairs = [[clustered_bounds[i], clustered_bounds[i+1]] for i in range(len(clustered_bounds))]\n",
    "    clustered_groups = [[E[:, i:j], e[:, i:j]] for i, j in bounds_pairs]\n",
    "    clustered_H = [calculate_h(E, e)\n",
    "        for E, e in clustered_groups]\n",
    "    return H, clustered_bounds[1:]\n"
   ],
   "metadata": {
    "collapsed": false,
    "pycharm": {
     "name": "#%%\n"
    }
   }
  },
  {
   "cell_type": "markdown",
   "source": [],
   "metadata": {
    "collapsed": false
   }
  }
 ],
 "metadata": {
  "kernelspec": {
   "display_name": "Python 3",
   "language": "python",
   "name": "python3"
  },
  "language_info": {
   "codemirror_mode": {
    "name": "ipython",
    "version": 2
   },
   "file_extension": ".py",
   "mimetype": "text/x-python",
   "name": "python",
   "nbconvert_exporter": "python",
   "pygments_lexer": "ipython2",
   "version": "2.7.6"
  }
 },
 "nbformat": 4,
 "nbformat_minor": 0
}